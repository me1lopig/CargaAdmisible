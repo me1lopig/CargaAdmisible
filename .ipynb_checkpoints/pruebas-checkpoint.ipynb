{
 "cells": [
  {
   "cell_type": "code",
   "execution_count": 9,
   "id": "c53b3296",
   "metadata": {},
   "outputs": [],
   "source": [
    "# carga de las librerias externas\n",
    "\n",
    "import numpy as np\n",
    "from datetime import datetime\n",
    "import os\n",
    "import openpyxl\n",
    "import funcionesDatos as fd\n",
    "import funcionesCalculo as fc\n"
   ]
  },
  {
   "cell_type": "code",
   "execution_count": 11,
   "id": "3e4b637e",
   "metadata": {},
   "outputs": [],
   "source": [
    "# carga de los datos\n",
    "espesor,cotas,az,nivel_freatico,pe_aparente,pe_saturada,E,poisson,cohesion,fi=fd.datos_terreno()\n",
    "b,l,forma,empotramiento,pendiente,axil,hb,hl,fs,numeroCalculos,incremento=fd.datos_cimentacion()"
   ]
  },
  {
   "cell_type": "code",
   "execution_count": 12,
   "id": "9b4ffe77",
   "metadata": {},
   "outputs": [
    {
     "name": "stdout",
     "output_type": "stream",
     "text": [
      "[0, 5, 10] [0, 5, 15] 15 6 [0, 15, 19] [0, 17, 21] [0, 10000, 40000] [0, 0.3, 0.3] [0, 10, 20] [0, 25, 30]\n",
      "1.5 1.5 c 1.5 5 150 10 10 3 5 0.5\n"
     ]
    }
   ],
   "source": [
    "# salida de los datos cargados\n",
    "print(espesor,cotas,az,nivel_freatico,pe_aparente,pe_saturada,E,poisson,cohesion,fi)\n",
    "print(b,l,forma,empotramiento,pendiente,axil,hb,hl,fs,numeroCalculos,incremento)\n"
   ]
  },
  {
   "cell_type": "code",
   "execution_count": 7,
   "id": "c9f2ab77",
   "metadata": {},
   "outputs": [],
   "source": []
  }
 ],
 "metadata": {
  "kernelspec": {
   "display_name": "Python 3 (ipykernel)",
   "language": "python",
   "name": "python3"
  },
  "language_info": {
   "codemirror_mode": {
    "name": "ipython",
    "version": 3
   },
   "file_extension": ".py",
   "mimetype": "text/x-python",
   "name": "python",
   "nbconvert_exporter": "python",
   "pygments_lexer": "ipython3",
   "version": "3.10.12"
  }
 },
 "nbformat": 4,
 "nbformat_minor": 5
}
