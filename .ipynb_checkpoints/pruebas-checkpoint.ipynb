{
 "cells": [
  {
   "cell_type": "code",
   "execution_count": 18,
   "id": "18acd37a",
   "metadata": {},
   "outputs": [
    {
     "data": {
      "text/plain": [
       "65"
      ]
     },
     "execution_count": 18,
     "metadata": {},
     "output_type": "execute_result"
    }
   ],
   "source": [
    "31+34"
   ]
  },
  {
   "cell_type": "code",
   "execution_count": 56,
   "id": "c53b3296",
   "metadata": {},
   "outputs": [],
   "source": [
    "# carga de las librerias externas\n",
    "\n",
    "import numpy as np\n",
    "from datetime import datetime\n",
    "import os\n",
    "import openpyxl\n"
   ]
  },
  {
   "cell_type": "markdown",
   "id": "bedcb699",
   "metadata": {},
   "source": [
    "print(\"Datos iniciales de la geometría de la cimentación\")\n",
    "b=float(input(\"B[m]=\"))\n",
    "l=float(input(\"L[m]=\"))\n",
    "numeroCalculos=int(input(\"Numero de calculos=\"))\n",
    "incremento=float(input(\"Incremento de dimensión[m]=\"))\n",
    "\n",
    "for i in np.arange(1,numeroCalculos,incremento):\n",
    "    for j in np.arange(l,l*numeroCalculos,incremento):\n",
    "        if(i<=j): # solo se imprimen los valores i<=j\n",
    "            print(i,j)"
   ]
  },
  {
   "cell_type": "code",
   "execution_count": 70,
   "id": "e6573f0f",
   "metadata": {},
   "outputs": [
    {
     "name": "stdout",
     "output_type": "stream",
     "text": [
      "Datos iniciales de la geometría de la cimentación\n",
      "B[m]=1\n",
      "L[m]=2\n",
      "Numero de calculos=3\n",
      "Incremento de dimensión[m]=0.5\n",
      "FS= 3\n",
      "Datos del terreno por encima del plano de cimentación\n",
      "Profundidad de apoyo de la cimentación [m]=2\n",
      "peso especifico[m]=16\n",
      "Datos del terreno bajo cimentación \n",
      "peso especifico[m]=18\n",
      "c[kPa]=12\n",
      "fi[º]=30\n",
      "Factores de capacidad de carga\n",
      "Nc=  30.139627791519096\n",
      "Nq=  18.40112221870867\n",
      "Ng=  15.069813895759541\n",
      "Factores de correcion por forma de la cimentación\n",
      "sc=  1.1\n",
      "sq=  1.4330127018922192\n",
      "sg=  0.85\n",
      "Para un valor de B[m]= 1.0\n",
      "Para un valor de L[m]= 2.0\n",
      "Carga de hundimiento[kPa]=  1356.9365029419937\n",
      "Carga admisible[kPa]=  452.31216764733125\n"
     ]
    }
   ],
   "source": [
    "# entrada de los datos de las dimensiones de la cimentación\n",
    "print(\"Datos iniciales de la geometría de la cimentación\")\n",
    "b=float(input(\"B[m]=\"))\n",
    "l=float(input(\"L[m]=\"))\n",
    "numeroCalculos=int(input(\"Numero de calculos=\"))\n",
    "incremento=float(input(\"Incremento de dimensión[m]=\"))\n",
    "\n",
    "\n",
    "# valor del coeficiente de seguridad\n",
    "fs=float(input(\"FS= \"))\n",
    "\n",
    "\n",
    "# entrada de datos por encima de cimentación\n",
    "print(\"Datos del terreno por encima del plano de cimentación\")\n",
    "prof=float(input(\"Profundidad de apoyo de la cimentación [m]=\"))\n",
    "pesoEspecificoSup=float(input(\"peso especifico[m]=\"))\n",
    "\n",
    "\n",
    "# entrada de los datos del terreno bajo cimentacion\n",
    "print(\"Datos del terreno bajo cimentación \")\n",
    "pesoEspecifico=float(input(\"peso especifico[m]=\"))\n",
    "cohesion=float(input(\"c[kPa]=\"))\n",
    "anguloRozamiento=float(input(\"fi[º]=\"))\n",
    "\n",
    "anguloRozamientoRad=np.deg2rad(anguloRozamiento)\n",
    "\n",
    "#Parametros de capacidad de carga para loa casos de situacion no drenada y drenada\n",
    "\n",
    "if (cohesion==0):\n",
    "    Nc=(np.pi+2)\n",
    "    Nq=1\n",
    "    Ng=0\n",
    "else:\n",
    "    Nq=((1+np.sin(anguloRozamientoRad))/(1-np.sin(anguloRozamientoRad)))*np.exp(np.pi*np.tan(anguloRozamientoRad))\n",
    "    Nc=(Nq-1)/np.tan(anguloRozamientoRad)\n",
    "    Ng=1.5*(Nq-1)*np.tan(anguloRozamientoRad)\n",
    "\n",
    "\n",
    "print(\"Factores de capacidad de carga\")\n",
    "print(\"Nc= \",Nc)\n",
    "print(\"Nq= \",Nq)\n",
    "print(\"Ng= \",Ng)\n",
    "\n",
    "\n",
    "# factores por influencia de la forma\n",
    "sc=1+0.2*b/l\n",
    "sq=1+1.5*np.tan(anguloRozamientoRad)*b/l\n",
    "sg=1-0.3*b/l\n",
    "\n",
    "print(\"Factores de correcion por forma de la cimentación\")\n",
    "print(\"sc= \",sc)\n",
    "print(\"sq= \",sq)\n",
    "print(\"sg= \",sg)\n",
    "\n",
    "# valor de la carga de hundimiento\n",
    "qh=cohesion*Nc*sc+pesoEspecificoSup*prof*Nq*sq+0.5*b*pesoEspecifico*Ng*sg\n",
    "qadm=qh/fs\n",
    "\n",
    "\n",
    "print(\"Para un valor de B[m]=\",b)\n",
    "print(\"Para un valor de L[m]=\",l)\n",
    "\n",
    "print(\"Carga de hundimiento[kPa]= \",qh)\n",
    "print(\"Carga admisible[kPa]= \",qadm)"
   ]
  },
  {
   "cell_type": "code",
   "execution_count": 71,
   "id": "e945ea6b",
   "metadata": {},
   "outputs": [
    {
     "name": "stdout",
     "output_type": "stream",
     "text": [
      "Datos iniciales de la geometría de la cimentación\n",
      "B[m]=1\n",
      "L[m]=1\n",
      "Numero de calculos=5\n",
      "Incremento de dimensión[m]=0.5\n",
      "1.0 1.0\n",
      "1.0 1.5\n",
      "1.0 2.0\n",
      "1.0 2.5\n",
      "1.0 3.0\n",
      "1.0 3.5\n",
      "1.5 1.5\n",
      "1.5 2.0\n",
      "1.5 2.5\n",
      "1.5 3.0\n",
      "1.5 3.5\n",
      "2.0 2.0\n",
      "2.0 2.5\n",
      "2.0 3.0\n",
      "2.0 3.5\n",
      "2.5 2.5\n",
      "2.5 3.0\n",
      "2.5 3.5\n",
      "3.0 3.0\n",
      "3.0 3.5\n",
      "3.5 3.5\n"
     ]
    }
   ],
   "source": [
    "# entrada de los datos de las dimensiones de la cimentación\n",
    "print(\"Datos iniciales de la geometría de la cimentación\")\n",
    "b=float(input(\"B[m]=\"))\n",
    "l=float(input(\"L[m]=\"))\n",
    "numeroCalculos=int(input(\"Numero de calculos=\"))\n",
    "incremento=float(input(\"Incremento de dimensión[m]=\"))\n",
    "\n",
    "\n",
    "for i in np.arange(1,numeroCalculos+incremento,incremento):\n",
    "    for j in np.arange(l,l+numeroCalculos*incremento+incremento,incremento):\n",
    "        if (i<=j):\n",
    "            print(i,j)\n",
    "\n"
   ]
  },
  {
   "cell_type": "code",
   "execution_count": 60,
   "id": "26748d5a",
   "metadata": {},
   "outputs": [],
   "source": [
    "\n",
    "\n",
    "def crea_directorio():\n",
    "    # creación del directorio de trabajo para guardar resultados\n",
    "    now = datetime.now()\n",
    "    directorio=(str(now.year)+str(now.month)+str(now.day)+str(now.hour)+str(now.minute)+str(now.second))\n",
    "    os.mkdir(directorio)\n",
    "    return directorio\n"
   ]
  },
  {
   "cell_type": "code",
   "execution_count": 49,
   "id": "19dac3d9",
   "metadata": {},
   "outputs": [
    {
     "name": "stdout",
     "output_type": "stream",
     "text": [
      "20241019124737\n"
     ]
    }
   ],
   "source": [
    "\n",
    "directorio=crea_directorio()\n",
    "print(valor)"
   ]
  },
  {
   "cell_type": "code",
   "execution_count": 55,
   "id": "ba574818",
   "metadata": {},
   "outputs": [],
   "source": [
    "\n",
    "\n",
    "# guardado en excel de los resultados de los calculos de carga admisible\n",
    "wb = openpyxl.Workbook()\n",
    "hoja = wb.active\n",
    "\n",
    "for i in np.arange(1,10):\n",
    "    for j in np.arange(l,10):\n",
    "        hoja.cell(row=i,column=j,value=10)          \n",
    "            \n",
    "# se crea un directorio para calculo realizado y se guarda en excel   \n",
    "#wb.save(directorio+'/'+nombre_archivo+'.xlsx')\n",
    "wb.save('archivo'+'.xlsx')   \n",
    "\n",
    "\n",
    "    "
   ]
  },
  {
   "cell_type": "code",
   "execution_count": null,
   "id": "797c7896",
   "metadata": {},
   "outputs": [],
   "source": []
  }
 ],
 "metadata": {
  "kernelspec": {
   "display_name": "Python 3 (ipykernel)",
   "language": "python",
   "name": "python3"
  },
  "language_info": {
   "codemirror_mode": {
    "name": "ipython",
    "version": 3
   },
   "file_extension": ".py",
   "mimetype": "text/x-python",
   "name": "python",
   "nbconvert_exporter": "python",
   "pygments_lexer": "ipython3",
   "version": "3.9.12"
  }
 },
 "nbformat": 4,
 "nbformat_minor": 5
}
