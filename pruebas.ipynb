{
 "cells": [
  {
   "cell_type": "code",
   "execution_count": 1,
   "id": "c53b3296",
   "metadata": {},
   "outputs": [],
   "source": [
    "# carga de las librerias externas\n",
    "\n",
    "import numpy as np\n",
    "from datetime import datetime\n",
    "import os\n",
    "import openpyxl\n",
    "import funcionesDatos as fd\n",
    "import funcionesCalculo as fc\n"
   ]
  },
  {
   "cell_type": "code",
   "execution_count": 2,
   "id": "3e4b637e",
   "metadata": {},
   "outputs": [],
   "source": [
    "espesor,cotas,az,nivel_freatico,pe_aparente,pe_saturada,E,poisson,cohesion,fi=fd.datos_terreno()"
   ]
  },
  {
   "cell_type": "code",
   "execution_count": 3,
   "id": "9b4ffe77",
   "metadata": {},
   "outputs": [
    {
     "name": "stdout",
     "output_type": "stream",
     "text": [
      "5 5 15 6 15 17 10000 0.3 10 25\n"
     ]
    }
   ],
   "source": [
    "print(espesor,cotas,az,nivel_freatico,pe_aparente,pe_saturada,E,poisson,cohesion,fi)"
   ]
  },
  {
   "cell_type": "code",
   "execution_count": 4,
   "id": "c9f2ab77",
   "metadata": {},
   "outputs": [],
   "source": [
    "b,l,forma,empotramiento,pendiente,axil,hb,hl,fs,numeroCalculos,incremento=fd.datos_cimentacion()"
   ]
  },
  {
   "cell_type": "code",
   "execution_count": 5,
   "id": "e153f206",
   "metadata": {},
   "outputs": [
    {
     "name": "stdout",
     "output_type": "stream",
     "text": [
      "1.5 1.5 r 1.5 5 150 10 10 3 5 0.5\n"
     ]
    }
   ],
   "source": [
    "print(b,l,forma,empotramiento,pendiente,axil,hb,hl,fs,numeroCalculos,incremento)"
   ]
  },
  {
   "cell_type": "code",
   "execution_count": 6,
   "id": "be95311e-e449-4e2a-8ce3-521dde08509b",
   "metadata": {},
   "outputs": [
    {
     "ename": "TypeError",
     "evalue": "CargaBrinch_Hansen() missing 4 required positional arguments: 'Hl', 'numeroCalculos', 'incremento', and 'fs'",
     "output_type": "error",
     "traceback": [
      "\u001b[0;31m---------------------------------------------------------------------------\u001b[0m",
      "\u001b[0;31mTypeError\u001b[0m                                 Traceback (most recent call last)",
      "Cell \u001b[0;32mIn[6], line 1\u001b[0m\n\u001b[0;32m----> 1\u001b[0m carga\u001b[38;5;241m=\u001b[39m\u001b[43mfc\u001b[49m\u001b[38;5;241;43m.\u001b[39;49m\u001b[43mCargaBrinch_Hansen\u001b[49m\u001b[43m(\u001b[49m\u001b[38;5;241;43m10\u001b[39;49m\u001b[43m,\u001b[49m\u001b[38;5;241;43m32\u001b[39;49m\u001b[43m,\u001b[49m\u001b[38;5;241;43m18\u001b[39;49m\u001b[43m,\u001b[49m\u001b[38;5;241;43m18\u001b[39;49m\u001b[43m,\u001b[49m\u001b[38;5;241;43m1.5\u001b[39;49m\u001b[43m,\u001b[49m\u001b[38;5;241;43m1.5\u001b[39;49m\u001b[43m,\u001b[49m\u001b[38;5;241;43m0.50\u001b[39;49m\u001b[43m,\u001b[49m\u001b[38;5;241;43m5\u001b[39;49m\u001b[43m,\u001b[49m\u001b[38;5;241;43m0.5\u001b[39;49m\u001b[43m,\u001b[49m\u001b[38;5;241;43m3\u001b[39;49m\u001b[43m)\u001b[49m\n",
      "\u001b[0;31mTypeError\u001b[0m: CargaBrinch_Hansen() missing 4 required positional arguments: 'Hl', 'numeroCalculos', 'incremento', and 'fs'"
     ]
    }
   ],
   "source": [
    "carga=fc.CargaBrinch_Hansen(10,32,18,18,1.5,1.5,0.50,5,0.5,3)"
   ]
  },
  {
   "cell_type": "code",
   "execution_count": 19,
   "id": "25b7cefd-6941-45f3-8be9-d5ea3000c06b",
   "metadata": {},
   "outputs": [],
   "source": [
    "carga\n"
   ]
  },
  {
   "cell_type": "code",
   "execution_count": null,
   "id": "1d0f90f0-a660-4e09-b4c5-f7c295f641cb",
   "metadata": {},
   "outputs": [],
   "source": []
  }
 ],
 "metadata": {
  "kernelspec": {
   "display_name": "Python 3 (ipykernel)",
   "language": "python",
   "name": "python3"
  },
  "language_info": {
   "codemirror_mode": {
    "name": "ipython",
    "version": 3
   },
   "file_extension": ".py",
   "mimetype": "text/x-python",
   "name": "python",
   "nbconvert_exporter": "python",
   "pygments_lexer": "ipython3",
   "version": "3.10.12"
  }
 },
 "nbformat": 4,
 "nbformat_minor": 5
}
