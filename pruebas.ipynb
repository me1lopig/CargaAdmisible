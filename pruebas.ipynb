{
 "cells": [
  {
   "cell_type": "code",
   "execution_count": 16,
   "id": "c53b3296",
   "metadata": {},
   "outputs": [
    {
     "ename": "ModuleNotFoundError",
     "evalue": "No module named 'funcionesFacCte'",
     "output_type": "error",
     "traceback": [
      "\u001b[0;31m---------------------------------------------------------------------------\u001b[0m",
      "\u001b[0;31mModuleNotFoundError\u001b[0m                       Traceback (most recent call last)",
      "Cell \u001b[0;32mIn[16], line 8\u001b[0m\n\u001b[1;32m      6\u001b[0m \u001b[38;5;28;01mimport\u001b[39;00m \u001b[38;5;21;01mopenpyxl\u001b[39;00m\n\u001b[1;32m      7\u001b[0m \u001b[38;5;28;01mimport\u001b[39;00m \u001b[38;5;21;01mfuncionesDatos\u001b[39;00m \u001b[38;5;28;01mas\u001b[39;00m \u001b[38;5;21;01mfd\u001b[39;00m\n\u001b[0;32m----> 8\u001b[0m \u001b[38;5;28;01mimport\u001b[39;00m \u001b[38;5;21;01mfuncionesFacCte\u001b[39;00m \u001b[38;5;28;01mas\u001b[39;00m \u001b[38;5;21;01mfcte\u001b[39;00m\n\u001b[1;32m      9\u001b[0m \u001b[38;5;28;01mimport\u001b[39;00m \u001b[38;5;21;01mfuncionesCalculo\u001b[39;00m \u001b[38;5;28;01mas\u001b[39;00m \u001b[38;5;21;01mfc\u001b[39;00m\n",
      "\u001b[0;31mModuleNotFoundError\u001b[0m: No module named 'funcionesFacCte'"
     ]
    }
   ],
   "source": [
    "# carga de las librerias externas\n",
    "\n",
    "import numpy as np\n",
    "from datetime import datetime\n",
    "import os\n",
    "import openpyxl\n",
    "import funcionesDatos as fd\n",
    "import funcionesFacCte as fcte\n",
    "import funcionesCalculo as fc\n"
   ]
  },
  {
   "cell_type": "code",
   "execution_count": 11,
   "id": "3e4b637e",
   "metadata": {},
   "outputs": [],
   "source": [
    "# carga de los datos\n",
    "espesor,cotas,az,nivel_freatico,pe_aparente,pe_saturada,E,poisson,cohesion,fi=fd.datos_terreno()\n",
    "b,l,forma,empotramiento,pendiente,axil,hb,hl,fs,numeroCalculos,incremento=fd.datos_cimentacion()"
   ]
  },
  {
   "cell_type": "code",
   "execution_count": 12,
   "id": "9b4ffe77",
   "metadata": {},
   "outputs": [
    {
     "name": "stdout",
     "output_type": "stream",
     "text": [
      "[0, 5, 10] [0, 5, 15] 15 6 [0, 15, 19] [0, 17, 21] [0, 10000, 40000] [0, 0.3, 0.3] [0, 10, 20] [0, 25, 30]\n",
      "1.5 1.5 c 1.5 5 150 10 10 3 5 0.5\n"
     ]
    }
   ],
   "source": [
    "# salida de los datos cargados\n",
    "print(espesor,cotas,az,nivel_freatico,pe_aparente,pe_saturada,E,poisson,cohesion,fi)\n",
    "print(b,l,forma,empotramiento,pendiente,axil,hb,hl,fs,numeroCalculos,incremento)\n"
   ]
  },
  {
   "cell_type": "code",
   "execution_count": 15,
   "id": "c9f2ab77",
   "metadata": {},
   "outputs": [
    {
     "ename": "NameError",
     "evalue": "name 'fcte' is not defined",
     "output_type": "error",
     "traceback": [
      "\u001b[0;31m---------------------------------------------------------------------------\u001b[0m",
      "\u001b[0;31mNameError\u001b[0m                                 Traceback (most recent call last)",
      "Cell \u001b[0;32mIn[15], line 1\u001b[0m\n\u001b[0;32m----> 1\u001b[0m \u001b[38;5;28mprint\u001b[39m(\u001b[43mfcte\u001b[49m\u001b[38;5;241m.\u001b[39mfactoresCapacidad(\u001b[38;5;241m25\u001b[39m))\n",
      "\u001b[0;31mNameError\u001b[0m: name 'fcte' is not defined"
     ]
    }
   ],
   "source": [
    "print(fcte.factoresCapacidad(25))\n"
   ]
  },
  {
   "cell_type": "code",
   "execution_count": null,
   "id": "12d26b11-2f09-4646-a781-1f15862410b6",
   "metadata": {},
   "outputs": [],
   "source": []
  }
 ],
 "metadata": {
  "kernelspec": {
   "display_name": "Python 3 (ipykernel)",
   "language": "python",
   "name": "python3"
  },
  "language_info": {
   "codemirror_mode": {
    "name": "ipython",
    "version": 3
   },
   "file_extension": ".py",
   "mimetype": "text/x-python",
   "name": "python",
   "nbconvert_exporter": "python",
   "pygments_lexer": "ipython3",
   "version": "3.10.12"
  }
 },
 "nbformat": 4,
 "nbformat_minor": 5
}
