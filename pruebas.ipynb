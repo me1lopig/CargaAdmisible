{
 "cells": [
  {
   "cell_type": "code",
   "execution_count": 15,
   "id": "c53b3296",
   "metadata": {},
   "outputs": [],
   "source": [
    "# carga de las librerias externas\n",
    "\n",
    "import numpy as np\n",
    "from datetime import datetime\n",
    "import os\n",
    "import openpyxl\n",
    "import funcionesDatos as fd\n",
    "import funcionesCalculo as fc\n"
   ]
  },
  {
   "cell_type": "code",
   "execution_count": 20,
   "id": "3e4b637e",
   "metadata": {},
   "outputs": [],
   "source": [
    "espesor,cotas,az,nivel_freatico,pe_aparente,pe_saturada,E,poisson,cohesion,fi=fd.datos_terreno()"
   ]
  },
  {
   "cell_type": "code",
   "execution_count": 21,
   "id": "9b4ffe77",
   "metadata": {},
   "outputs": [
    {
     "name": "stdout",
     "output_type": "stream",
     "text": [
      "5 5 15 6 15 17 10000 0.3 10 25\n"
     ]
    }
   ],
   "source": [
    "print(espesor[1],cotas[1],az,nivel_freatico,pe_aparente[1],pe_saturada[1],E[1],poisson[1],cohesion[1],fi[1])"
   ]
  },
  {
   "cell_type": "code",
   "execution_count": 22,
   "id": "c9f2ab77",
   "metadata": {},
   "outputs": [],
   "source": [
    "b,l,forma,empotramiento,pendiente,axil,hb,hl,fs,numeroCalculos,incremento=fd.datos_cimentacion()"
   ]
  },
  {
   "cell_type": "code",
   "execution_count": 23,
   "id": "e153f206",
   "metadata": {},
   "outputs": [
    {
     "name": "stdout",
     "output_type": "stream",
     "text": [
      "1.5 1.5 r 1.5 5 150 10 10 3 5 0.5\n"
     ]
    }
   ],
   "source": [
    "print(b,l,forma,empotramiento,pendiente,axil,hb,hl,fs,numeroCalculos,incremento)"
   ]
  },
  {
   "cell_type": "code",
   "execution_count": 17,
   "id": "be95311e-e449-4e2a-8ce3-521dde08509b",
   "metadata": {},
   "outputs": [
    {
     "name": "stdout",
     "output_type": "stream",
     "text": [
      "Datos proximidad a talud\n"
     ]
    },
    {
     "name": "stdin",
     "output_type": "stream",
     "text": [
      "Angulo de la pendiente[º]= 5\n",
      "Se considera efecto de inclinación de la carga [S/N]  n\n"
     ]
    }
   ],
   "source": [
    "carga=fc.CargaBrinch_Hansen(10,32,18,18,1.5,1.5,0.50,5,0.5,3)"
   ]
  },
  {
   "cell_type": "code",
   "execution_count": 19,
   "id": "25b7cefd-6941-45f3-8be9-d5ea3000c06b",
   "metadata": {},
   "outputs": [],
   "source": [
    "carga\n"
   ]
  },
  {
   "cell_type": "code",
   "execution_count": null,
   "id": "1d0f90f0-a660-4e09-b4c5-f7c295f641cb",
   "metadata": {},
   "outputs": [],
   "source": []
  }
 ],
 "metadata": {
  "kernelspec": {
   "display_name": "Python 3 (ipykernel)",
   "language": "python",
   "name": "python3"
  },
  "language_info": {
   "codemirror_mode": {
    "name": "ipython",
    "version": 3
   },
   "file_extension": ".py",
   "mimetype": "text/x-python",
   "name": "python",
   "nbconvert_exporter": "python",
   "pygments_lexer": "ipython3",
   "version": "3.10.12"
  }
 },
 "nbformat": 4,
 "nbformat_minor": 5
}
