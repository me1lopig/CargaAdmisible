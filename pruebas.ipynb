{
 "cells": [
  {
   "cell_type": "code",
   "execution_count": 3,
   "id": "c53b3296",
   "metadata": {},
   "outputs": [],
   "source": [
    "# carga de las librerias externas\n",
    "\n",
    "import numpy as np\n",
    "from datetime import datetime\n",
    "import os\n",
    "import openpyxl\n",
    "import funcionesDatos as fd\n"
   ]
  },
  {
   "cell_type": "code",
   "execution_count": 8,
   "id": "3e4b637e",
   "metadata": {},
   "outputs": [],
   "source": [
    "espesor,cotas,az,nivel_freatico,pe_aparente,pe_saturada,E,poisson,cohesion,fi=fd.datos_terreno()"
   ]
  },
  {
   "cell_type": "code",
   "execution_count": 5,
   "id": "9b4ffe77",
   "metadata": {},
   "outputs": [
    {
     "name": "stdout",
     "output_type": "stream",
     "text": [
      "[0, 5, 10] [0, 5, 15] 15 6 [0, 15, 19] [0, 17, 21] [0, 10000, 40000] [0, 0.3, 0.3] [0, 10, 20] [0, 25, 30]\n"
     ]
    }
   ],
   "source": [
    "print(espesor,cotas,az,nivel_freatico,pe_aparente,pe_saturada,E,poisson,cohesion,fi)"
   ]
  },
  {
   "cell_type": "code",
   "execution_count": null,
   "id": "c9f2ab77",
   "metadata": {},
   "outputs": [],
   "source": [
    "b,l,forma,empotramiento,pendiente,axil,hb,hl,fs,numeroCalculos,incremento=fd.datos_cimentacion()"
   ]
  },
  {
   "cell_type": "code",
   "execution_count": 7,
   "id": "e153f206",
   "metadata": {},
   "outputs": [
    {
     "name": "stdout",
     "output_type": "stream",
     "text": [
      "1.5 1.5 r 1.5 5 150 10 10 3 5 0.5\n"
     ]
    }
   ],
   "source": [
    "print(b,l,forma,empotramiento,pendiente,axil,hb,hl,fs,numeroCalculos,incremento)"
   ]
  },
  {
   "cell_type": "code",
   "execution_count": null,
   "id": "be95311e-e449-4e2a-8ce3-521dde08509b",
   "metadata": {},
   "outputs": [],
   "source": []
  }
 ],
 "metadata": {
  "kernelspec": {
   "display_name": "Python 3 (ipykernel)",
   "language": "python",
   "name": "python3"
  },
  "language_info": {
   "codemirror_mode": {
    "name": "ipython",
    "version": 3
   },
   "file_extension": ".py",
   "mimetype": "text/x-python",
   "name": "python",
   "nbconvert_exporter": "python",
   "pygments_lexer": "ipython3",
   "version": "3.10.12"
  }
 },
 "nbformat": 4,
 "nbformat_minor": 5
}
