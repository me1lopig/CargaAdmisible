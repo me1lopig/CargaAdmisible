{
 "cells": [
  {
   "cell_type": "code",
   "execution_count": null,
   "id": "18acd37a",
   "metadata": {},
   "outputs": [],
   "source": [
    "31+34"
   ]
  },
  {
   "cell_type": "code",
   "execution_count": 1,
   "id": "c53b3296",
   "metadata": {},
   "outputs": [],
   "source": [
    "# carga de las librerias externas\n",
    "\n",
    "import numpy as np\n",
    "from datetime import datetime\n",
    "import os\n",
    "import openpyxl\n",
    "import funciones as ft\n"
   ]
  },
  {
   "cell_type": "code",
   "execution_count": 17,
   "id": "ad27f962",
   "metadata": {},
   "outputs": [
    {
     "name": "stdout",
     "output_type": "stream",
     "text": [
      "Se considera efecto de inclinación de la carga [S/N] s\n",
      "Datos de las cargas sobre cimentación\n",
      "Carga vertical N[kN]=233\n",
      "Carga horizontal Hb[kN]=76\n",
      "Carga horizontal HL[kN]=555\n"
     ]
    }
   ],
   "source": [
    "# corrección por inclinación de la carga sobre la cimentación\n",
    "pregunta=input(\"Se considera efecto de inclinación de la carga [S/N] \")\n",
    "if (pregunta=='S' or pregunta=='s'):\n",
    "    print('Datos de las cargas sobre cimentación')\n",
    "    cargaV=float(input('Carga vertical N[kN]='))\n",
    "    cargaHb=float(input('Carga horizontal Hb[kN]='))\n",
    "    cargaHl=float(input('Carga horizontal HL[kN]='))\n"
   ]
  },
  {
   "cell_type": "code",
   "execution_count": 12,
   "id": "fc8c41d8",
   "metadata": {},
   "outputs": [
    {
     "name": "stdout",
     "output_type": "stream",
     "text": [
      "(30.139627791519096, 18.40112221870867, 15.069813895759541)\n",
      "30.139627791519096\n",
      "18.40112221870867\n",
      "15.069813895759541\n"
     ]
    },
    {
     "data": {
      "text/plain": [
       "1"
      ]
     },
     "execution_count": 12,
     "metadata": {},
     "output_type": "execute_result"
    }
   ],
   "source": [
    "factores=ft.factoresCapacidad(0,30)\n",
    "print(factores)\n",
    "\n",
    "for i in ft.factoresCapacidad(0,30):\n",
    "    print(i)\n",
    "    \n",
    "ft.factoresCapacidad(20,0)[1] # primer elemento de la lista"
   ]
  },
  {
   "cell_type": "code",
   "execution_count": 2,
   "id": "692aac28",
   "metadata": {},
   "outputs": [
    {
     "name": "stdout",
     "output_type": "stream",
     "text": [
      "(20.72053121908369, 10.662142388498454, 6.758296484911289)\n",
      "(0.6953480613848627, 0.6561000000000001, 0.7239213000000001)\n"
     ]
    }
   ],
   "source": [
    "cargaVertical=100\n",
    "horizontalB=10\n",
    "horizontalL=10\n",
    "fi=25\n",
    "cohesion=20\n",
    "b=2\n",
    "l=2\n",
    "print(ft.factoresCapacidad(cohesion,fi))\n",
    "print(ft.correcionInclCarga(cargaVertical, horizontalB,horizontalL,fi,cohesion,b,l))"
   ]
  },
  {
   "cell_type": "code",
   "execution_count": 4,
   "id": "33fe0cb4",
   "metadata": {},
   "outputs": [
    {
     "name": "stdout",
     "output_type": "stream",
     "text": [
      "(5.141592653589793, 1, 0)\n"
     ]
    }
   ],
   "source": [
    "print(ft.factoresCapacidad(10,0))"
   ]
  },
  {
   "cell_type": "markdown",
   "id": "bedcb699",
   "metadata": {},
   "source": [
    "print(\"Datos iniciales de la geometría de la cimentación\")\n",
    "b=float(input(\"B[m]=\"))\n",
    "l=float(input(\"L[m]=\"))\n",
    "numeroCalculos=int(input(\"Numero de calculos=\"))\n",
    "incremento=float(input(\"Incremento de dimensión[m]=\"))\n",
    "\n",
    "for i in np.arange(1,numeroCalculos,incremento):\n",
    "    for j in np.arange(l,l*numeroCalculos,incremento):\n",
    "        if(i<=j): # solo se imprimen los valores i<=j\n",
    "            print(i,j)"
   ]
  },
  {
   "cell_type": "code",
   "execution_count": 7,
   "id": "dfa6d275",
   "metadata": {},
   "outputs": [
    {
     "name": "stdout",
     "output_type": "stream",
     "text": [
      "0.0 10.19\n",
      "0.5 10.19\n",
      "1.0 10.19\n",
      "1.5 10.19\n",
      "2.0 16.063333333333333\n",
      "2.5 17.531666666666666\n",
      "3.0 19\n",
      "3.5 19\n",
      "4.0 19\n",
      "4.5 19\n",
      "5.0 19\n",
      "5.5 19\n",
      "6.0 19\n",
      "6.5 19\n",
      "7.0 19\n",
      "7.5 19\n",
      "8.0 19\n",
      "8.5 19\n",
      "9.0 19\n",
      "9.5 19\n",
      "10.0 19\n",
      "10.5 19\n"
     ]
    }
   ],
   "source": [
    "# variacion del nivel freático\n",
    "pesoAparente=19\n",
    "pesoSaturado=20\n",
    "profundidad=1.5\n",
    "b=3\n",
    "for z in np.arange(0,11,0.50):\n",
    "    print(z,ft.densidad (pesoAparente,pesoSaturado,profundidad,b,z))"
   ]
  },
  {
   "cell_type": "code",
   "execution_count": null,
   "id": "e6573f0f",
   "metadata": {},
   "outputs": [],
   "source": [
    "# entrada de los datos de las dimensiones de la cimentación\n",
    "print(\"Datos iniciales de la geometría de la cimentación\")\n",
    "b=float(input(\"B[m]=\"))\n",
    "l=float(input(\"L[m]=\"))\n",
    "numeroCalculos=int(input(\"Numero de calculos=\"))\n",
    "incremento=float(input(\"Incremento de dimensión[m]=\"))\n",
    "\n",
    "\n",
    "# valor del coeficiente de seguridad\n",
    "fs=float(input(\"FS= \"))\n",
    "\n",
    "\n",
    "# entrada de datos por encima de cimentación\n",
    "print(\"Datos del terreno por encima del plano de cimentación\")\n",
    "prof=float(input(\"Profundidad de apoyo de la cimentación [m]=\"))\n",
    "pesoEspecificoSup=float(input(\"peso especifico[m]=\"))\n",
    "\n",
    "\n",
    "# entrada de los datos del terreno bajo cimentacion\n",
    "print(\"Datos del terreno bajo cimentación \")\n",
    "pesoEspecifico=float(input(\"peso especifico[m]=\"))\n",
    "cohesion=float(input(\"c[kPa]=\"))\n",
    "anguloRozamiento=float(input(\"fi[º]=\"))\n",
    "anguloRozamientoRad=np.deg2rad(anguloRozamiento)\n",
    "\n",
    "#Parametros de capacidad de carga para loa casos de situacion no drenada y drenada\n",
    "\n",
    "if (cohesion==0):\n",
    "    Nc=(np.pi+2)\n",
    "    Nq=1\n",
    "    Ng=0\n",
    "else:\n",
    "    Nq=((1+np.sin(anguloRozamientoRad))/(1-np.sin(anguloRozamientoRad)))*np.exp(np.pi*np.tan(anguloRozamientoRad))\n",
    "    Nc=(Nq-1)/np.tan(anguloRozamientoRad)\n",
    "    Ng=1.5*(Nq-1)*np.tan(anguloRozamientoRad)\n",
    "\n",
    "\n",
    "print(\"Factores de capacidad de carga\")\n",
    "print(\"Nc= \",Nc)\n",
    "print(\"Nq= \",Nq)\n",
    "print(\"Ng= \",Ng)\n",
    "\n",
    "\n",
    "# factores por influencia de la forma\n",
    "sc=1+0.2*b/l\n",
    "sq=1+1.5*np.tan(anguloRozamientoRad)*b/l\n",
    "sg=1-0.3*b/l\n",
    "\n",
    "print(\"Factores de correcion por forma de la cimentación\")\n",
    "print(\"sc= \",sc)\n",
    "print(\"sq= \",sq)\n",
    "print(\"sg= \",sg)\n",
    "\n",
    "# valor de la carga de hundimiento\n",
    "qh=cohesion*Nc*sc+pesoEspecificoSup*prof*Nq*sq+0.5*b*pesoEspecifico*Ng*sg\n",
    "qadm=qh/fs\n",
    "\n",
    "\n",
    "print(\"Para un valor de B[m]=\",b)\n",
    "print(\"Para un valor de L[m]=\",l)\n",
    "\n",
    "print(\"Carga de hundimiento[kPa]= \",qh)\n",
    "print(\"Carga admisible[kPa]= \",qadm)"
   ]
  },
  {
   "cell_type": "code",
   "execution_count": null,
   "id": "e945ea6b",
   "metadata": {},
   "outputs": [],
   "source": [
    "# entrada de los datos de las dimensiones de la cimentación\n",
    "print(\"Datos iniciales de la geometría de la cimentación\")\n",
    "b=float(input(\"B[m]=\"))\n",
    "l=float(input(\"L[m]=\"))\n",
    "numeroCalculos=int(input(\"Numero de calculos=\"))\n",
    "incremento=float(input(\"Incremento de dimensión[m]=\"))\n",
    "\n",
    "\n",
    "for ancho in np.arange(b,b+numeroCalculos,incremento):\n",
    "    for largo in np.arange(l,l+numeroCalculos*incremento,incremento):\n",
    "        if (ancho<=largo):\n",
    "            print(\"B= %.2f L=%.2f\"%(ancho,largo))\n",
    "\n"
   ]
  },
  {
   "cell_type": "code",
   "execution_count": null,
   "id": "26748d5a",
   "metadata": {},
   "outputs": [],
   "source": [
    "\n",
    "\n",
    "def crea_directorio():\n",
    "    # creación del directorio de trabajo para guardar resultados\n",
    "    now = datetime.now()\n",
    "    directorio=(str(now.year)+str(now.month)+str(now.day)+str(now.hour)+str(now.minute)+str(now.second))\n",
    "    os.mkdir(directorio)\n",
    "    return directorio\n"
   ]
  },
  {
   "cell_type": "code",
   "execution_count": null,
   "id": "19dac3d9",
   "metadata": {},
   "outputs": [],
   "source": [
    "\n",
    "directorio=crea_directorio()\n",
    "print(valor)"
   ]
  },
  {
   "cell_type": "code",
   "execution_count": null,
   "id": "ba574818",
   "metadata": {},
   "outputs": [],
   "source": [
    "\n",
    "\n",
    "# guardado en excel de los resultados de los calculos de carga admisible\n",
    "wb = openpyxl.Workbook()\n",
    "hoja = wb.active\n",
    "\n",
    "for i in np.arange(1,10):\n",
    "    for j in np.arange(l,10):\n",
    "        hoja.cell(row=i,column=j,value=10)          \n",
    "            \n",
    "# se crea un directorio para calculo realizado y se guarda en excel   \n",
    "#wb.save(directorio+'/'+nombre_archivo+'.xlsx')\n",
    "wb.save('archivo'+'.xlsx')   \n",
    "\n",
    "\n",
    "    "
   ]
  },
  {
   "cell_type": "code",
   "execution_count": null,
   "id": "797c7896",
   "metadata": {},
   "outputs": [],
   "source": [
    "# factores de correción por proximidad de talud\n",
    "\n",
    "anguloRozamiento=float(input(\"fi[º]=\"))\n",
    "anguloRozamientoRad=np.deg2rad(anguloRozamiento)\n",
    "\n",
    "beta=float(input(\"pendiente[º]=\"))\n",
    "betaRadianes=np.deg2rad(beta)\n",
    "\n",
    "tc=np.exp(-2*betaRadianes*np.tan(anguloRozamientoRad))\n",
    "tq=1-np.sin(2*betaRadianes)\n",
    "tg=1-np.sin(2*betaRadianes)\n",
    "\n",
    "print(\"tc=%.2f tq=%.2f tg=%.2f\"%(tc,tq,tg))"
   ]
  },
  {
   "cell_type": "code",
   "execution_count": null,
   "id": "60aed295",
   "metadata": {},
   "outputs": [],
   "source": []
  },
  {
   "cell_type": "code",
   "execution_count": null,
   "id": "9331571c",
   "metadata": {},
   "outputs": [],
   "source": []
  }
 ],
 "metadata": {
  "kernelspec": {
   "display_name": "Python 3 (ipykernel)",
   "language": "python",
   "name": "python3"
  },
  "language_info": {
   "codemirror_mode": {
    "name": "ipython",
    "version": 3
   },
   "file_extension": ".py",
   "mimetype": "text/x-python",
   "name": "python",
   "nbconvert_exporter": "python",
   "pygments_lexer": "ipython3",
   "version": "3.9.12"
  }
 },
 "nbformat": 4,
 "nbformat_minor": 5
}
